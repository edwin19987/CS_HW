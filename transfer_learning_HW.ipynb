{
  "nbformat": 4,
  "nbformat_minor": 0,
  "metadata": {
    "colab": {
      "name": "transfer_learning_HW.ipynb",
      "provenance": [],
      "authorship_tag": "ABX9TyNPl5hRT20WvyQcstrc070Y",
      "include_colab_link": true
    },
    "kernelspec": {
      "name": "python3",
      "display_name": "Python 3"
    }
  },
  "cells": [
    {
      "cell_type": "markdown",
      "metadata": {
        "id": "view-in-github",
        "colab_type": "text"
      },
      "source": [
        "<a href=\"https://colab.research.google.com/github/edwin19987/CS_HW/blob/master/transfer_learning_HW.ipynb\" target=\"_parent\"><img src=\"https://colab.research.google.com/assets/colab-badge.svg\" alt=\"Open In Colab\"/></a>"
      ]
    },
    {
      "cell_type": "code",
      "metadata": {
        "id": "mq1nUt34_ie7",
        "colab_type": "code",
        "colab": {}
      },
      "source": [
        "%tensorflow_version 2.x"
      ],
      "execution_count": 0,
      "outputs": []
    },
    {
      "cell_type": "code",
      "metadata": {
        "id": "PDM4CWwS_llS",
        "colab_type": "code",
        "colab": {}
      },
      "source": [
        "import matplotlib.pyplot as plt\n",
        "import numpy as np \n",
        "import pandas as pd\n",
        "\n",
        "from tensorflow.keras.models import Sequential\n",
        "from tensorflow.keras.layers import Dense,Flatten\n",
        "from tensorflow.keras.layers import Conv2D,MaxPooling2D,GlobalAveragePooling2D\n",
        "from tensorflow.keras.optimizers import Adam\n",
        "\n",
        "from tensorflow.keras.datasets import mnist\n",
        "from tensorflow.keras.utils import to_categorical"
      ],
      "execution_count": 0,
      "outputs": []
    },
    {
      "cell_type": "code",
      "metadata": {
        "id": "0dSoo9q9_qOF",
        "colab_type": "code",
        "outputId": "ec07b44a-9380-4742-f0c8-49f6d653ac10",
        "colab": {
          "base_uri": "https://localhost:8080/",
          "height": 51
        }
      },
      "source": [
        "(x_train,y_train),(x_test,y_test) = mnist.load_data()"
      ],
      "execution_count": 0,
      "outputs": [
        {
          "output_type": "stream",
          "text": [
            "Downloading data from https://storage.googleapis.com/tensorflow/tf-keras-datasets/mnist.npz\n",
            "11493376/11490434 [==============================] - 0s 0us/step\n"
          ],
          "name": "stdout"
        }
      ]
    },
    {
      "cell_type": "code",
      "metadata": {
        "id": "WMvpBktq_saf",
        "colab_type": "code",
        "colab": {}
      },
      "source": [
        "x_train = x_train.reshape(60000,28,28,1)/255\n",
        "x_test = x_test.reshape(10000,28,28,1)/255"
      ],
      "execution_count": 0,
      "outputs": []
    },
    {
      "cell_type": "code",
      "metadata": {
        "id": "xcgzrGWA_xqF",
        "colab_type": "code",
        "outputId": "00e60a1a-5e5b-45c6-831c-d9eb90e424e0",
        "colab": {
          "base_uri": "https://localhost:8080/",
          "height": 34
        }
      },
      "source": [
        "x_train.shape"
      ],
      "execution_count": 0,
      "outputs": [
        {
          "output_type": "execute_result",
          "data": {
            "text/plain": [
              "(60000, 28, 28, 1)"
            ]
          },
          "metadata": {
            "tags": []
          },
          "execution_count": 5
        }
      ]
    },
    {
      "cell_type": "code",
      "metadata": {
        "id": "R7myuADe_0G0",
        "colab_type": "code",
        "colab": {}
      },
      "source": [
        "y_train = to_categorical(y_train,10)\n",
        "y_test = to_categorical(y_test,10)"
      ],
      "execution_count": 0,
      "outputs": []
    },
    {
      "cell_type": "code",
      "metadata": {
        "id": "-GtC1-jD_16d",
        "colab_type": "code",
        "outputId": "181a9a2b-5692-4f0c-9fa6-0f410a529fc1",
        "colab": {
          "base_uri": "https://localhost:8080/",
          "height": 282
        }
      },
      "source": [
        "X=x_test[1].reshape(28,28)\n",
        "plt.imshow(X, cmap='Greys')"
      ],
      "execution_count": 0,
      "outputs": [
        {
          "output_type": "execute_result",
          "data": {
            "text/plain": [
              "<matplotlib.image.AxesImage at 0x7f3c35f554e0>"
            ]
          },
          "metadata": {
            "tags": []
          },
          "execution_count": 8
        },
        {
          "output_type": "display_data",
          "data": {
            "image/png": "[encoded data removed]",
            "text/plain": [
              "<Figure size 432x288 with 1 Axes>"
            ]
          },
          "metadata": {
            "tags": [],
            "needs_background": "light"
          }
        }
      ]
    },
    {
      "cell_type": "code",
      "metadata": {
        "id": "VNpbO79g_5Pj",
        "colab_type": "code",
        "colab": {}
      },
      "source": [
        "CNN_layers = [Conv2D(16,(3,3),padding = 'same',input_shape=(28,28,1),activation='relu'),\n",
        "             MaxPooling2D(pool_size=(2,2)),\n",
        "             Conv2D(32,(3,3),padding='same',activation='relu'),\n",
        "             MaxPooling2D(pool_size=(2,2)),\n",
        "             Conv2D(64,(3,3),padding='same',activation='relu'),\n",
        "             GlobalAveragePooling2D()]\n",
        "FNN_layers = [Flatten(),\n",
        "             Dense(54,activation='relu'),\n",
        "             Dense(10, activation='softmax')]"
      ],
      "execution_count": 0,
      "outputs": []
    },
    {
      "cell_type": "code",
      "metadata": {
        "id": "plwL1aCa__Q8",
        "colab_type": "code",
        "colab": {}
      },
      "source": [
        "model = Sequential(CNN_layers+FNN_layers)"
      ],
      "execution_count": 0,
      "outputs": []
    },
    {
      "cell_type": "code",
      "metadata": {
        "id": "QOUJI7bHABLz",
        "colab_type": "code",
        "outputId": "5b542c13-8464-4575-9b93-c814a3343bb4",
        "colab": {
          "base_uri": "https://localhost:8080/",
          "height": 467
        }
      },
      "source": [
        "model.summary()"
      ],
      "execution_count": 0,
      "outputs": [
        {
          "output_type": "stream",
          "text": [
            "Model: \"sequential_5\"\n",
            "_________________________________________________________________\n",
            "Layer (type)                 Output Shape              Param #   \n",
            "=================================================================\n",
            "conv2d_16 (Conv2D)           (None, 28, 28, 16)        160       \n",
            "_________________________________________________________________\n",
            "max_pooling2d_12 (MaxPooling (None, 14, 14, 16)        0         \n",
            "_________________________________________________________________\n",
            "conv2d_17 (Conv2D)           (None, 14, 14, 32)        4640      \n",
            "_________________________________________________________________\n",
            "max_pooling2d_13 (MaxPooling (None, 7, 7, 32)          0         \n",
            "_________________________________________________________________\n",
            "conv2d_18 (Conv2D)           (None, 7, 7, 64)          18496     \n",
            "_________________________________________________________________\n",
            "global_average_pooling2d_2 ( (None, 64)                0         \n",
            "_________________________________________________________________\n",
            "flatten_1 (Flatten)          (None, 64)                0         \n",
            "_________________________________________________________________\n",
            "dense_2 (Dense)              (None, 54)                3510      \n",
            "_________________________________________________________________\n",
            "dense_3 (Dense)              (None, 10)                550       \n",
            "=================================================================\n",
            "Total params: 27,356\n",
            "Trainable params: 27,356\n",
            "Non-trainable params: 0\n",
            "_________________________________________________________________\n"
          ],
          "name": "stdout"
        }
      ]
    },
    {
      "cell_type": "code",
      "metadata": {
        "id": "-R9LIKbdACnH",
        "colab_type": "code",
        "colab": {}
      },
      "source": [
        "model.compile(loss='categorical_crossentropy',optimizer=Adam(lr=0.0087),metrics=['accuracy'])"
      ],
      "execution_count": 0,
      "outputs": []
    },
    {
      "cell_type": "code",
      "metadata": {
        "id": "khw_aW4hAE4A",
        "colab_type": "code",
        "outputId": "a6ebf9bc-7194-4765-aaf8-f04aa53e28bc",
        "colab": {
          "base_uri": "https://localhost:8080/",
          "height": 450
        }
      },
      "source": [
        "model.fit(x_train, y_train, \n",
        "          batch_size=128, \n",
        "          epochs=12)"
      ],
      "execution_count": 0,
      "outputs": [
        {
          "output_type": "stream",
          "text": [
            "Epoch 1/12\n",
            "469/469 [==============================] - 38s 80ms/step - loss: 2.3018 - accuracy: 0.1118\n",
            "Epoch 2/12\n",
            "469/469 [==============================] - 38s 80ms/step - loss: 2.3019 - accuracy: 0.1105\n",
            "Epoch 3/12\n",
            "469/469 [==============================] - 38s 80ms/step - loss: 2.3018 - accuracy: 0.1120\n",
            "Epoch 4/12\n",
            "469/469 [==============================] - 38s 80ms/step - loss: 2.3018 - accuracy: 0.1114\n",
            "Epoch 5/12\n",
            "469/469 [==============================] - 38s 80ms/step - loss: 2.3018 - accuracy: 0.1124\n",
            "Epoch 6/12\n",
            "469/469 [==============================] - 38s 80ms/step - loss: 2.3018 - accuracy: 0.1112\n",
            "Epoch 7/12\n",
            "469/469 [==============================] - 38s 81ms/step - loss: 2.3018 - accuracy: 0.1118\n",
            "Epoch 8/12\n",
            "469/469 [==============================] - 38s 80ms/step - loss: 2.3019 - accuracy: 0.1118\n",
            "Epoch 9/12\n",
            "469/469 [==============================] - 38s 81ms/step - loss: 2.3018 - accuracy: 0.1120\n",
            "Epoch 10/12\n",
            "469/469 [==============================] - 38s 81ms/step - loss: 2.3018 - accuracy: 0.1114\n",
            "Epoch 11/12\n",
            "469/469 [==============================] - 38s 81ms/step - loss: 2.3018 - accuracy: 0.1124\n",
            "Epoch 12/12\n",
            "469/469 [==============================] - 38s 81ms/step - loss: 2.3018 - accuracy: 0.1102\n"
          ],
          "name": "stdout"
        },
        {
          "output_type": "execute_result",
          "data": {
            "text/plain": [
              "<tensorflow.python.keras.callbacks.History at 0x7f3c29205240>"
            ]
          },
          "metadata": {
            "tags": []
          },
          "execution_count": 47
        }
      ]
    },
    {
      "cell_type": "code",
      "metadata": {
        "id": "FPvOTwrbAGnN",
        "colab_type": "code",
        "colab": {}
      },
      "source": [
        "# 使用fashion_mnist來做transfer learning"
      ],
      "execution_count": 0,
      "outputs": []
    },
    {
      "cell_type": "code",
      "metadata": {
        "id": "AxZ2UFzgCLHR",
        "colab_type": "code",
        "colab": {}
      },
      "source": [
        "from tensorflow.keras.datasets import fashion_mnist"
      ],
      "execution_count": 0,
      "outputs": []
    },
    {
      "cell_type": "code",
      "metadata": {
        "id": "2Pp6z7GyCPBl",
        "colab_type": "code",
        "colab": {}
      },
      "source": [
        "(f_train, m_train), (f_test, m_test) = fashion_mnist.load_data()"
      ],
      "execution_count": 0,
      "outputs": []
    },
    {
      "cell_type": "code",
      "metadata": {
        "id": "KgAhzFePCVgW",
        "colab_type": "code",
        "colab": {}
      },
      "source": [
        "f_train = f_train.reshape(60000, 28, 28, 1) / 255\n",
        "f_test = f_test.reshape(10000, 28, 28, 1) / 255"
      ],
      "execution_count": 0,
      "outputs": []
    },
    {
      "cell_type": "code",
      "metadata": {
        "id": "kg08lo4WCbTi",
        "colab_type": "code",
        "colab": {}
      },
      "source": [
        "m_train = to_categorical(m_train, 10)\n",
        "m_test = to_categorical(m_test, 10)"
      ],
      "execution_count": 0,
      "outputs": []
    },
    {
      "cell_type": "code",
      "metadata": {
        "id": "lJcYlGbkCeCS",
        "colab_type": "code",
        "colab": {}
      },
      "source": [
        "#屬於fashion_mnist的CNN"
      ],
      "execution_count": 0,
      "outputs": []
    },
    {
      "cell_type": "code",
      "metadata": {
        "id": "lSFVhUtPDB7u",
        "colab_type": "code",
        "colab": {}
      },
      "source": [
        "from tensorflow.keras.layers import MaxPool2D"
      ],
      "execution_count": 0,
      "outputs": []
    },
    {
      "cell_type": "code",
      "metadata": {
        "id": "VuYMVO2-CsCZ",
        "colab_type": "code",
        "colab": {}
      },
      "source": [
        "CNN_layers_2= [Conv2D(16, (3, 3), input_shape=(28, 28, 1), padding='same', activation='relu'),\n",
        "              MaxPool2D(),\n",
        "              Conv2D(32, (3, 3), padding='same', activation='relu'),\n",
        "              MaxPool2D(),\n",
        "              Conv2D(64, (3, 3), padding='same', activation='relu'),\n",
        "              GlobalAveragePooling2D()]"
      ],
      "execution_count": 0,
      "outputs": []
    },
    {
      "cell_type": "code",
      "metadata": {
        "id": "_g__7ViDC1hN",
        "colab_type": "code",
        "colab": {}
      },
      "source": [
        "model_2 = Sequential(CNN_layers_2+FNN_layers)"
      ],
      "execution_count": 0,
      "outputs": []
    },
    {
      "cell_type": "code",
      "metadata": {
        "id": "_uP-YkuVDTiQ",
        "colab_type": "code",
        "outputId": "e17a5797-d458-466f-c84d-714f42ec7bdd",
        "colab": {
          "base_uri": "https://localhost:8080/",
          "height": 467
        }
      },
      "source": [
        "model_2.summary()"
      ],
      "execution_count": 0,
      "outputs": [
        {
          "output_type": "stream",
          "text": [
            "Model: \"sequential_6\"\n",
            "_________________________________________________________________\n",
            "Layer (type)                 Output Shape              Param #   \n",
            "=================================================================\n",
            "conv2d_19 (Conv2D)           (None, 28, 28, 16)        160       \n",
            "_________________________________________________________________\n",
            "max_pooling2d_14 (MaxPooling (None, 14, 14, 16)        0         \n",
            "_________________________________________________________________\n",
            "conv2d_20 (Conv2D)           (None, 14, 14, 32)        4640      \n",
            "_________________________________________________________________\n",
            "max_pooling2d_15 (MaxPooling (None, 7, 7, 32)          0         \n",
            "_________________________________________________________________\n",
            "conv2d_21 (Conv2D)           (None, 7, 7, 64)          18496     \n",
            "_________________________________________________________________\n",
            "global_average_pooling2d_3 ( (None, 64)                0         \n",
            "_________________________________________________________________\n",
            "flatten_1 (Flatten)          (None, 64)                0         \n",
            "_________________________________________________________________\n",
            "dense_2 (Dense)              (None, 54)                3510      \n",
            "_________________________________________________________________\n",
            "dense_3 (Dense)              (None, 10)                550       \n",
            "=================================================================\n",
            "Total params: 27,356\n",
            "Trainable params: 27,356\n",
            "Non-trainable params: 0\n",
            "_________________________________________________________________\n"
          ],
          "name": "stdout"
        }
      ]
    },
    {
      "cell_type": "code",
      "metadata": {
        "id": "n_Arcyd5E0Ew",
        "colab_type": "code",
        "colab": {}
      },
      "source": [
        "for layer in FNN_layers:\n",
        "    layer.trainable = False"
      ],
      "execution_count": 0,
      "outputs": []
    },
    {
      "cell_type": "code",
      "metadata": {
        "id": "9DCtbAl1E5nU",
        "colab_type": "code",
        "colab": {}
      },
      "source": [
        "model_2.compile(\n",
        "    loss='categorical_crossentropy', \n",
        "    optimizer=Adam(), \n",
        "    metrics=['accuracy'])"
      ],
      "execution_count": 0,
      "outputs": []
    },
    {
      "cell_type": "code",
      "metadata": {
        "id": "8AtXj66DFChN",
        "colab_type": "code",
        "outputId": "ffc5c279-8db6-427e-f27c-a9d09b491e15",
        "colab": {
          "base_uri": "https://localhost:8080/",
          "height": 381
        }
      },
      "source": [
        "model_2.fit(f_train, m_train, batch_size=150, epochs=10)"
      ],
      "execution_count": 0,
      "outputs": [
        {
          "output_type": "stream",
          "text": [
            "Epoch 1/10\n",
            "400/400 [==============================] - 39s 97ms/step - loss: 1.8725 - accuracy: 0.3743\n",
            "Epoch 2/10\n",
            "400/400 [==============================] - 39s 96ms/step - loss: 1.5191 - accuracy: 0.4900\n",
            "Epoch 3/10\n",
            "400/400 [==============================] - 39s 96ms/step - loss: 1.4059 - accuracy: 0.5213\n",
            "Epoch 4/10\n",
            "400/400 [==============================] - 39s 96ms/step - loss: 1.3502 - accuracy: 0.5366\n",
            "Epoch 5/10\n",
            "400/400 [==============================] - 39s 97ms/step - loss: 1.3077 - accuracy: 0.5478\n",
            "Epoch 6/10\n",
            "400/400 [==============================] - 38s 96ms/step - loss: 1.2699 - accuracy: 0.5634\n",
            "Epoch 7/10\n",
            "400/400 [==============================] - 38s 96ms/step - loss: 1.2434 - accuracy: 0.5708\n",
            "Epoch 8/10\n",
            "400/400 [==============================] - 39s 96ms/step - loss: 1.2122 - accuracy: 0.5828\n",
            "Epoch 9/10\n",
            "400/400 [==============================] - 39s 96ms/step - loss: 1.1918 - accuracy: 0.5921\n",
            "Epoch 10/10\n",
            "400/400 [==============================] - 38s 96ms/step - loss: 1.1792 - accuracy: 0.5955\n"
          ],
          "name": "stdout"
        },
        {
          "output_type": "execute_result",
          "data": {
            "text/plain": [
              "<tensorflow.python.keras.callbacks.History at 0x7f3c290c1208>"
            ]
          },
          "metadata": {
            "tags": []
          },
          "execution_count": 60
        }
      ]
    },
    {
      "cell_type": "code",
      "metadata": {
        "id": "uOup2MtvFLni",
        "colab_type": "code",
        "outputId": "51a743ac-8e59-463f-a214-bab2b81510df",
        "colab": {
          "base_uri": "https://localhost:8080/",
          "height": 51
        }
      },
      "source": [
        "model_2.evaluate(f_train,m_train)"
      ],
      "execution_count": 0,
      "outputs": [
        {
          "output_type": "stream",
          "text": [
            "1875/1875 [==============================] - 18s 9ms/step - loss: 1.1769 - accuracy: 0.5920\n"
          ],
          "name": "stdout"
        },
        {
          "output_type": "execute_result",
          "data": {
            "text/plain": [
              "[1.1768752336502075, 0.5920000076293945]"
            ]
          },
          "metadata": {
            "tags": []
          },
          "execution_count": 61
        }
      ]
    },
    {
      "cell_type": "code",
      "metadata": {
        "id": "Lk5Jb7-VIxyP",
        "colab_type": "code",
        "outputId": "198adf87-275c-46a4-e2f1-04faa22c15b2",
        "colab": {
          "base_uri": "https://localhost:8080/",
          "height": 51
        }
      },
      "source": [
        "model_2.evaluate(f_test,m_test)"
      ],
      "execution_count": 0,
      "outputs": [
        {
          "output_type": "stream",
          "text": [
            "313/313 [==============================] - 3s 10ms/step - loss: 1.2058 - accuracy: 0.5852\n"
          ],
          "name": "stdout"
        },
        {
          "output_type": "execute_result",
          "data": {
            "text/plain": [
              "[1.2058491706848145, 0.5852000117301941]"
            ]
          },
          "metadata": {
            "tags": []
          },
          "execution_count": 62
        }
      ]
    },
    {
      "cell_type": "code",
      "metadata": {
        "id": "2Up-4OFEI6jL",
        "colab_type": "code",
        "outputId": "4d2c6595-14b9-40d6-fc20-9af5e95abf3f",
        "colab": {
          "base_uri": "https://localhost:8080/",
          "height": 69
        }
      },
      "source": [
        "model.evaluate(x_train,y_train)\n",
        "model.evaluate(x_test,y_test)"
      ],
      "execution_count": 0,
      "outputs": [
        {
          "output_type": "stream",
          "text": [
            "1875/1875 [==============================] - 18s 9ms/step - loss: 2.3018 - accuracy: 0.1124\n",
            "313/313 [==============================] - 3s 10ms/step - loss: 2.3018 - accuracy: 0.1135\n"
          ],
          "name": "stdout"
        },
        {
          "output_type": "execute_result",
          "data": {
            "text/plain": [
              "[2.301806688308716, 0.11349999904632568]"
            ]
          },
          "metadata": {
            "tags": []
          },
          "execution_count": 63
        }
      ]
    },
    {
      "cell_type": "code",
      "metadata": {
        "id": "gkTpuzMTJCfh",
        "colab_type": "code",
        "colab": {}
      },
      "source": [
        ""
      ],
      "execution_count": 0,
      "outputs": []
    },
    {
      "cell_type": "markdown",
      "metadata": {
        "id": "IZDtxwNjJLBB",
        "colab_type": "text"
      },
      "source": [
        ""
      ]
    }
  ]
}