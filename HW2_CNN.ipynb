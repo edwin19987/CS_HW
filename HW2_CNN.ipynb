{
 "cells": [
  {
   "cell_type": "code",
   "execution_count": 1,
   "metadata": {},
   "outputs": [],
   "source": [
    "%matplotlib inline\n",
    "import numpy as np\n",
    "import matplotlib.pyplot as plt\n",
    "import pandas as pd\n",
    "import tensorflow as tf\n",
    "gpu_options = tf.GPUOptions(per_process_gpu_memory_fraction=0.333)  \n",
    "sess = tf.Session(config=tf.ConfigProto(gpu_options=gpu_options)) "
   ]
  },
  {
   "cell_type": "code",
   "execution_count": 2,
   "metadata": {},
   "outputs": [],
   "source": [
    "from tensorflow.keras.datasets import fashion_mnist"
   ]
  },
  {
   "cell_type": "code",
   "execution_count": 5,
   "metadata": {},
   "outputs": [],
   "source": [
    "(x_train,y_train),(x_test,y_test)=fashion_mnist.load_data()"
   ]
  },
  {
   "cell_type": "code",
   "execution_count": 6,
   "metadata": {},
   "outputs": [
    {
     "data": {
      "text/plain": [
       "(60000, 28, 28)"
      ]
     },
     "execution_count": 6,
     "metadata": {},
     "output_type": "execute_result"
    }
   ],
   "source": [
    "x_train.shape"
   ]
  },
  {
   "cell_type": "code",
   "execution_count": 9,
   "metadata": {},
   "outputs": [
    {
     "data": {
      "text/plain": [
       "<matplotlib.image.AxesImage at 0x2a5043b9f60>"
      ]
     },
     "execution_count": 9,
     "metadata": {},
     "output_type": "execute_result"
    },
    {
     "data": {
      "image/png": "[encoded data removed]",
      "text/plain": [
       "<Figure size 432x288 with 1 Axes>"
      ]
     },
     "metadata": {
      "needs_background": "light"
     },
     "output_type": "display_data"
    }
   ],
   "source": [
    "plt.imshow(x_train[2],cmap='Greys')"
   ]
  },
  {
   "cell_type": "code",
   "execution_count": 11,
   "metadata": {},
   "outputs": [],
   "source": [
    "x_train = x_train.reshape(60000,28,28,1)/255"
   ]
  },
  {
   "cell_type": "code",
   "execution_count": 13,
   "metadata": {},
   "outputs": [],
   "source": [
    "x_test = x_test.reshape(10000,28,28,1)/255 "
   ]
  },
  {
   "cell_type": "code",
   "execution_count": 14,
   "metadata": {},
   "outputs": [
    {
     "data": {
      "text/plain": [
       "(60000, 28, 28, 1)"
      ]
     },
     "execution_count": 14,
     "metadata": {},
     "output_type": "execute_result"
    }
   ],
   "source": [
    "x_train.shape"
   ]
  },
  {
   "cell_type": "code",
   "execution_count": 15,
   "metadata": {},
   "outputs": [],
   "source": [
    "from tensorflow.keras.utils import to_categorical"
   ]
  },
  {
   "cell_type": "code",
   "execution_count": 16,
   "metadata": {},
   "outputs": [],
   "source": [
    "y_train = to_categorical(y_train,10)\n",
    "y_test = to_categorical(y_test,10)"
   ]
  },
  {
   "cell_type": "markdown",
   "metadata": {},
   "source": [
    "### 讀入必要函式"
   ]
  },
  {
   "cell_type": "code",
   "execution_count": 17,
   "metadata": {},
   "outputs": [],
   "source": [
    "from tensorflow.keras.models import Sequential\n",
    "from tensorflow.keras.layers import Conv2D,MaxPooling2D\n",
    "from tensorflow.keras.layers import Dense,Flatten\n",
    "from tensorflow.keras.optimizers import SGD"
   ]
  },
  {
   "cell_type": "markdown",
   "metadata": {},
   "source": [
    "### S1. 打造函數學習機"
   ]
  },
  {
   "cell_type": "code",
   "execution_count": 75,
   "metadata": {},
   "outputs": [],
   "source": [
    "model = Sequential()"
   ]
  },
  {
   "cell_type": "code",
   "execution_count": 76,
   "metadata": {},
   "outputs": [],
   "source": [
    "model.add(Conv2D(32,(3,3),padding='same',input_shape=(28,28,1),activation='relu'))"
   ]
  },
  {
   "cell_type": "code",
   "execution_count": 77,
   "metadata": {},
   "outputs": [],
   "source": [
    "model.add(MaxPooling2D(pool_size=(2,2)))"
   ]
  },
  {
   "cell_type": "code",
   "execution_count": 78,
   "metadata": {},
   "outputs": [],
   "source": [
    "model.add(Conv2D(64,(3,3),padding='same',activation='relu'))"
   ]
  },
  {
   "cell_type": "code",
   "execution_count": 79,
   "metadata": {},
   "outputs": [],
   "source": [
    "model.add(MaxPooling2D(pool_size=(2,2)))"
   ]
  },
  {
   "cell_type": "code",
   "execution_count": 80,
   "metadata": {},
   "outputs": [],
   "source": [
    "model.add(Conv2D(128,(3,3),padding='same',activation='relu'))"
   ]
  },
  {
   "cell_type": "code",
   "execution_count": 81,
   "metadata": {},
   "outputs": [],
   "source": [
    "model.add(MaxPooling2D(pool_size=(2,2)))"
   ]
  },
  {
   "cell_type": "code",
   "execution_count": 82,
   "metadata": {},
   "outputs": [],
   "source": [
    "model.add(Flatten())"
   ]
  },
  {
   "cell_type": "code",
   "execution_count": 83,
   "metadata": {},
   "outputs": [],
   "source": [
    "model.add(Dense(128,activation='relu'))"
   ]
  },
  {
   "cell_type": "code",
   "execution_count": 84,
   "metadata": {},
   "outputs": [],
   "source": [
    "model.add(Dense(10,activation='softmax'))"
   ]
  },
  {
   "cell_type": "code",
   "execution_count": 85,
   "metadata": {},
   "outputs": [
    {
     "name": "stdout",
     "output_type": "stream",
     "text": [
      "Model: \"sequential_3\"\n",
      "_________________________________________________________________\n",
      "Layer (type)                 Output Shape              Param #   \n",
      "=================================================================\n",
      "conv2d_10 (Conv2D)           (None, 28, 28, 32)        320       \n",
      "_________________________________________________________________\n",
      "max_pooling2d_9 (MaxPooling2 (None, 14, 14, 32)        0         \n",
      "_________________________________________________________________\n",
      "conv2d_11 (Conv2D)           (None, 14, 14, 64)        18496     \n",
      "_________________________________________________________________\n",
      "max_pooling2d_10 (MaxPooling (None, 7, 7, 64)          0         \n",
      "_________________________________________________________________\n",
      "conv2d_12 (Conv2D)           (None, 7, 7, 128)         73856     \n",
      "_________________________________________________________________\n",
      "max_pooling2d_11 (MaxPooling (None, 3, 3, 128)         0         \n",
      "_________________________________________________________________\n",
      "flatten_3 (Flatten)          (None, 1152)              0         \n",
      "_________________________________________________________________\n",
      "dense_8 (Dense)              (None, 128)               147584    \n",
      "_________________________________________________________________\n",
      "dense_9 (Dense)              (None, 10)                1290      \n",
      "=================================================================\n",
      "Total params: 241,546\n",
      "Trainable params: 241,546\n",
      "Non-trainable params: 0\n",
      "_________________________________________________________________\n"
     ]
    }
   ],
   "source": [
    "model.summary()"
   ]
  },
  {
   "cell_type": "markdown",
   "metadata": {},
   "source": [
    "### 因為使用原本的optimizer-SGD學習出的模型準確度太低不超過0.2，因此google去找別人如何訓練模型，發現很多人使用adam作為optimizer，所以我在這邊修改了optimizer，發現準確率高了許多。"
   ]
  },
  {
   "cell_type": "code",
   "execution_count": 86,
   "metadata": {},
   "outputs": [],
   "source": [
    "model.compile(loss='mse',optimizer='adam',metrics=['accuracy'])"
   ]
  },
  {
   "cell_type": "markdown",
   "metadata": {},
   "source": [
    "### S2. fit"
   ]
  },
  {
   "cell_type": "markdown",
   "metadata": {},
   "source": [
    "### 雖然準確率高上許多，但是無法突破0.9，因此修改了loss function變成mae發現沒甚麼改變"
   ]
  },
  {
   "cell_type": "code",
   "execution_count": 87,
   "metadata": {},
   "outputs": [
    {
     "name": "stdout",
     "output_type": "stream",
     "text": [
      "Epoch 1/12\n",
      "60000/60000 [==============================] - 6s 95us/sample - loss: 0.0615 - acc: 0.4820\n",
      "Epoch 2/12\n",
      "60000/60000 [==============================] - 5s 90us/sample - loss: 0.0366 - acc: 0.7359\n",
      "Epoch 3/12\n",
      "60000/60000 [==============================] - 5s 89us/sample - loss: 0.0329 - acc: 0.7669\n",
      "Epoch 4/12\n",
      "60000/60000 [==============================] - 5s 90us/sample - loss: 0.0301 - acc: 0.7908\n",
      "Epoch 5/12\n",
      "60000/60000 [==============================] - 5s 90us/sample - loss: 0.0283 - acc: 0.8034\n",
      "Epoch 6/12\n",
      "60000/60000 [==============================] - 5s 90us/sample - loss: 0.0265 - acc: 0.8152\n",
      "Epoch 7/12\n",
      "60000/60000 [==============================] - 5s 90us/sample - loss: 0.0250 - acc: 0.8257\n",
      "Epoch 8/12\n",
      "60000/60000 [==============================] - 5s 90us/sample - loss: 0.0240 - acc: 0.8336\n",
      "Epoch 9/12\n",
      "60000/60000 [==============================] - 5s 92us/sample - loss: 0.0229 - acc: 0.8409\n",
      "Epoch 10/12\n",
      "60000/60000 [==============================] - 5s 89us/sample - loss: 0.0221 - acc: 0.8466\n",
      "Epoch 11/12\n",
      "60000/60000 [==============================] - 5s 90us/sample - loss: 0.0213 - acc: 0.8514\n",
      "Epoch 12/12\n",
      "60000/60000 [==============================] - 5s 91us/sample - loss: 0.0205 - acc: 0.8590\n"
     ]
    },
    {
     "data": {
      "text/plain": [
       "<tensorflow.python.keras.callbacks.History at 0x2a5ebe370b8>"
      ]
     },
     "execution_count": 87,
     "metadata": {},
     "output_type": "execute_result"
    }
   ],
   "source": [
    "model.fit(x_train,y_train,batch_size=256,epochs=12)"
   ]
  },
  {
   "cell_type": "code",
   "execution_count": 88,
   "metadata": {},
   "outputs": [
    {
     "name": "stdout",
     "output_type": "stream",
     "text": [
      "Epoch 1/12\n",
      "60000/60000 [==============================] - 6s 92us/sample - loss: 0.0200 - acc: 0.8610\n",
      "Epoch 2/12\n",
      "60000/60000 [==============================] - 5s 91us/sample - loss: 0.0191 - acc: 0.8686\n",
      "Epoch 3/12\n",
      "60000/60000 [==============================] - 5s 90us/sample - loss: 0.0189 - acc: 0.8698\n",
      "Epoch 4/12\n",
      "60000/60000 [==============================] - 6s 93us/sample - loss: 0.0185 - acc: 0.8722\n",
      "Epoch 5/12\n",
      "60000/60000 [==============================] - 6s 93us/sample - loss: 0.0183 - acc: 0.8741\n",
      "Epoch 6/12\n",
      "60000/60000 [==============================] - 6s 105us/sample - loss: 0.0178 - acc: 0.8778\n",
      "Epoch 7/12\n",
      "60000/60000 [==============================] - 7s 110us/sample - loss: 0.0175 - acc: 0.8798\n",
      "Epoch 8/12\n",
      "60000/60000 [==============================] - 7s 110us/sample - loss: 0.0174 - acc: 0.8810\n",
      "Epoch 9/12\n",
      "60000/60000 [==============================] - 7s 112us/sample - loss: 0.0170 - acc: 0.8840\n",
      "Epoch 10/12\n",
      "60000/60000 [==============================] - 6s 108us/sample - loss: 0.0167 - acc: 0.8863\n",
      "Epoch 11/12\n",
      "60000/60000 [==============================] - 6s 105us/sample - loss: 0.0166 - acc: 0.8867\n",
      "Epoch 12/12\n",
      "60000/60000 [==============================] - 6s 104us/sample - loss: 0.0163 - acc: 0.8886\n"
     ]
    },
    {
     "data": {
      "text/plain": [
       "<tensorflow.python.keras.callbacks.History at 0x2a5ec0a80f0>"
      ]
     },
     "execution_count": 88,
     "metadata": {},
     "output_type": "execute_result"
    }
   ],
   "source": [
    "model.fit(x_train,y_train,batch_size=256,epochs=12)"
   ]
  },
  {
   "cell_type": "markdown",
   "metadata": {},
   "source": [
    "### 將Con2D的層數改為32,64,128，有比原本的好一點，但是也無法在24的訓練後準確率突破0.9。"
   ]
  },
  {
   "cell_type": "code",
   "execution_count": 89,
   "metadata": {},
   "outputs": [
    {
     "name": "stdout",
     "output_type": "stream",
     "text": [
      "Epoch 1/12\n",
      "60000/60000 [==============================] - 5s 90us/sample - loss: 0.0161 - acc: 0.8909\n",
      "Epoch 2/12\n",
      "60000/60000 [==============================] - 5s 90us/sample - loss: 0.0158 - acc: 0.8927\n",
      "Epoch 3/12\n",
      "60000/60000 [==============================] - 5s 89us/sample - loss: 0.0156 - acc: 0.8939\n",
      "Epoch 4/12\n",
      "60000/60000 [==============================] - 5s 90us/sample - loss: 0.0155 - acc: 0.8939\n",
      "Epoch 5/12\n",
      "60000/60000 [==============================] - 5s 90us/sample - loss: 0.0152 - acc: 0.8974\n",
      "Epoch 6/12\n",
      "60000/60000 [==============================] - 6s 92us/sample - loss: 0.0150 - acc: 0.8980\n",
      "Epoch 7/12\n",
      "60000/60000 [==============================] - 8s 129us/sample - loss: 0.0149 - acc: 0.8995\n",
      "Epoch 8/12\n",
      "60000/60000 [==============================] - 6s 105us/sample - loss: 0.0146 - acc: 0.9010\n",
      "Epoch 9/12\n",
      "60000/60000 [==============================] - 5s 91us/sample - loss: 0.0144 - acc: 0.9021\n",
      "Epoch 10/12\n",
      "60000/60000 [==============================] - 5s 91us/sample - loss: 0.0145 - acc: 0.9016\n",
      "Epoch 11/12\n",
      "60000/60000 [==============================] - 6s 106us/sample - loss: 0.0141 - acc: 0.9048\n",
      "Epoch 12/12\n",
      "60000/60000 [==============================] - 7s 120us/sample - loss: 0.0141 - acc: 0.9051\n"
     ]
    },
    {
     "data": {
      "text/plain": [
       "<tensorflow.python.keras.callbacks.History at 0x2a5ec3394e0>"
      ]
     },
     "execution_count": 89,
     "metadata": {},
     "output_type": "execute_result"
    }
   ],
   "source": [
    "model.fit(x_train,y_train,batch_size=256,epochs=12)"
   ]
  },
  {
   "cell_type": "code",
   "execution_count": 90,
   "metadata": {},
   "outputs": [],
   "source": [
    "result = model.predict_classes(x_test)"
   ]
  },
  {
   "cell_type": "code",
   "execution_count": 103,
   "metadata": {},
   "outputs": [],
   "source": [
    "name = ['top','Trouser','Pullover','Dress','Coat','Sandal','Shirt','Sneaker','Bag','Ankle boot']\n",
    "def my_predict(n):\n",
    "    print(\"我可愛的cnn預測是: \", name[result[n]])\n",
    "    print(\"正確答案是: \", y_test[n])\n",
    "    X=x_test[n].reshape(28,28)\n",
    "    plt.imshow(X, cmap='Greys')"
   ]
  },
  {
   "cell_type": "code",
   "execution_count": 108,
   "metadata": {},
   "outputs": [
    {
     "name": "stdout",
     "output_type": "stream",
     "text": [
      "我可愛的cnn預測是:  Trouser\n",
      "正確答案是:  [0. 1. 0. 0. 0. 0. 0. 0. 0. 0.]\n"
     ]
    },
    {
     "data": {
      "image/png": "[encoded data removed]",
      "text/plain": [
       "<Figure size 432x288 with 1 Axes>"
      ]
     },
     "metadata": {
      "needs_background": "light"
     },
     "output_type": "display_data"
    }
   ],
   "source": [
    "my_predict(200)"
   ]
  },
  {
   "cell_type": "code",
   "execution_count": 109,
   "metadata": {},
   "outputs": [],
   "source": [
    "from ipywidgets import interact_manual"
   ]
  },
  {
   "cell_type": "code",
   "execution_count": 107,
   "metadata": {},
   "outputs": [
    {
     "data": {
      "application/vnd.jupyter.widget-view+json": {
       "model_id": "5f2927966a5345d19e4eb51bb8891a5e",
       "version_major": 2,
       "version_minor": 0
      },
      "text/plain": [
       "interactive(children=(IntSlider(value=4999, description='n', max=9999), Button(description='Run Interact', sty…"
      ]
     },
     "metadata": {},
     "output_type": "display_data"
    },
    {
     "data": {
      "text/plain": [
       "<function __main__.my_predict(n)>"
      ]
     },
     "execution_count": 107,
     "metadata": {},
     "output_type": "execute_result"
    }
   ],
   "source": [
    "interact_manual(my_predict, n=(0, 9999))"
   ]
  },
  {
   "cell_type": "code",
   "execution_count": null,
   "metadata": {},
   "outputs": [],
   "source": []
  }
 ],
 "metadata": {
  "kernelspec": {
   "display_name": "Python 3",
   "language": "python",
   "name": "python3"
  },
  "language_info": {
   "codemirror_mode": {
    "name": "ipython",
    "version": 3
   },
   "file_extension": ".py",
   "mimetype": "text/x-python",
   "name": "python",
   "nbconvert_exporter": "python",
   "pygments_lexer": "ipython3",
   "version": "3.7.3"
  }
 },
 "nbformat": 4,
 "nbformat_minor": 2
}
